{
 "cells": [
  {
   "cell_type": "code",
   "execution_count": 1,
   "metadata": {},
   "outputs": [
    {
     "name": "stdout",
     "output_type": "stream",
     "text": [
      "Enter first number : 52\n",
      "Enter second number : 63\n",
      "The ADDITION of two numbers is 115\n",
      "The SUBTRACTION of two numbers is -11\n",
      "The MULTIPLICATION of two numbers is 3276\n",
      "The DIVISION of two numbers is 0.8253968253968254\n"
     ]
    }
   ],
   "source": [
    "num1 = int (input (\"Enter first number : \"))\n",
    "num2 = int (input(\"Enter second number : \"))\n",
    "addition = num1 + num2\n",
    "subtraction = num1 - num2\n",
    "multiplication = num1 * num2\n",
    "division = num1 / num2\n",
    "print (\"The ADDITION of two numbers is \" +  str(addition))\n",
    "print (\"The SUBTRACTION of two numbers is \" + str(subtraction))\n",
    "print (\"The MULTIPLICATION of two numbers is \" + str(multiplication))\n",
    "print (\"The DIVISION of two numbers is \" + str(division))"
   ]
  },
  {
   "cell_type": "code",
   "execution_count": 2,
   "metadata": {},
   "outputs": [
    {
     "name": "stdout",
     "output_type": "stream",
     "text": [
      "Enter first number : 5\n",
      "Enter second number : 3\n",
      "The result is 125\n"
     ]
    }
   ],
   "source": [
    "X = int (input(\"Enter first number : \"))\n",
    "Y = int (input(\"Enter second number : \"))\n",
    "result = X**Y\n",
    "print(\"The result is \" + str(result))"
   ]
  }
 ],
 "metadata": {
  "kernelspec": {
   "display_name": "Python 3",
   "language": "python",
   "name": "python3"
  },
  "language_info": {
   "codemirror_mode": {
    "name": "ipython",
    "version": 3
   },
   "file_extension": ".py",
   "mimetype": "text/x-python",
   "name": "python",
   "nbconvert_exporter": "python",
   "pygments_lexer": "ipython3",
   "version": "3.7.4"
  }
 },
 "nbformat": 4,
 "nbformat_minor": 2
}
